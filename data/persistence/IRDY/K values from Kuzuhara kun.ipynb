{
 "cells": [
  {
   "cell_type": "code",
   "execution_count": 1,
   "metadata": {},
   "outputs": [],
   "source": [
    "import numpy as np\n",
    "import pandas as pd"
   ]
  },
  {
   "cell_type": "code",
   "execution_count": 7,
   "metadata": {},
   "outputs": [],
   "source": [
    "dat=pd.read_csv(\"best_fits.dat\",names=(\"tau1\",\"tau2\",\"tau3\",\"K1\",\"K2\",\"K3\",\"Intensity(ADU)\"),delimiter=\" \")"
   ]
  },
  {
   "cell_type": "code",
   "execution_count": 8,
   "metadata": {},
   "outputs": [
    {
     "data": {
      "text/html": [
       "<div>\n",
       "<style scoped>\n",
       "    .dataframe tbody tr th:only-of-type {\n",
       "        vertical-align: middle;\n",
       "    }\n",
       "\n",
       "    .dataframe tbody tr th {\n",
       "        vertical-align: top;\n",
       "    }\n",
       "\n",
       "    .dataframe thead th {\n",
       "        text-align: right;\n",
       "    }\n",
       "</style>\n",
       "<table border=\"1\" class=\"dataframe\">\n",
       "  <thead>\n",
       "    <tr style=\"text-align: right;\">\n",
       "      <th></th>\n",
       "      <th>tau1</th>\n",
       "      <th>tau2</th>\n",
       "      <th>tau3</th>\n",
       "      <th>K1</th>\n",
       "      <th>K2</th>\n",
       "      <th>K3</th>\n",
       "      <th>Intensity(ADU)</th>\n",
       "    </tr>\n",
       "  </thead>\n",
       "  <tbody>\n",
       "    <tr>\n",
       "      <th>0</th>\n",
       "      <td>337.832235</td>\n",
       "      <td>2192.164113</td>\n",
       "      <td>21237.910433</td>\n",
       "      <td>15625.390443</td>\n",
       "      <td>737.788799</td>\n",
       "      <td>176.320355</td>\n",
       "      <td>138436.765625</td>\n",
       "    </tr>\n",
       "    <tr>\n",
       "      <th>1</th>\n",
       "      <td>294.323773</td>\n",
       "      <td>1856.125721</td>\n",
       "      <td>29037.585240</td>\n",
       "      <td>18097.148243</td>\n",
       "      <td>888.714973</td>\n",
       "      <td>144.530377</td>\n",
       "      <td>129035.714844</td>\n",
       "    </tr>\n",
       "    <tr>\n",
       "      <th>2</th>\n",
       "      <td>343.324542</td>\n",
       "      <td>2728.496388</td>\n",
       "      <td>23953.234483</td>\n",
       "      <td>16772.013616</td>\n",
       "      <td>600.672607</td>\n",
       "      <td>174.532051</td>\n",
       "      <td>140833.644531</td>\n",
       "    </tr>\n",
       "    <tr>\n",
       "      <th>3</th>\n",
       "      <td>253.827160</td>\n",
       "      <td>1862.204427</td>\n",
       "      <td>20236.279491</td>\n",
       "      <td>22970.716268</td>\n",
       "      <td>748.060518</td>\n",
       "      <td>158.648602</td>\n",
       "      <td>141888.746094</td>\n",
       "    </tr>\n",
       "    <tr>\n",
       "      <th>4</th>\n",
       "      <td>342.539707</td>\n",
       "      <td>2584.459018</td>\n",
       "      <td>30404.104737</td>\n",
       "      <td>13172.070650</td>\n",
       "      <td>607.305195</td>\n",
       "      <td>136.530761</td>\n",
       "      <td>136870.113281</td>\n",
       "    </tr>\n",
       "    <tr>\n",
       "      <th>5</th>\n",
       "      <td>347.299427</td>\n",
       "      <td>2870.380445</td>\n",
       "      <td>31033.335805</td>\n",
       "      <td>9606.195138</td>\n",
       "      <td>371.002706</td>\n",
       "      <td>116.622258</td>\n",
       "      <td>136778.007812</td>\n",
       "    </tr>\n",
       "    <tr>\n",
       "      <th>6</th>\n",
       "      <td>306.120491</td>\n",
       "      <td>2627.394338</td>\n",
       "      <td>37008.942536</td>\n",
       "      <td>17074.178406</td>\n",
       "      <td>611.938302</td>\n",
       "      <td>100.649406</td>\n",
       "      <td>145422.839844</td>\n",
       "    </tr>\n",
       "    <tr>\n",
       "      <th>7</th>\n",
       "      <td>324.310561</td>\n",
       "      <td>2206.461973</td>\n",
       "      <td>23569.952829</td>\n",
       "      <td>18044.710863</td>\n",
       "      <td>663.645118</td>\n",
       "      <td>145.961359</td>\n",
       "      <td>141715.765625</td>\n",
       "    </tr>\n",
       "    <tr>\n",
       "      <th>8</th>\n",
       "      <td>324.280688</td>\n",
       "      <td>1573.775647</td>\n",
       "      <td>15177.476956</td>\n",
       "      <td>11343.163552</td>\n",
       "      <td>646.148331</td>\n",
       "      <td>197.925164</td>\n",
       "      <td>130186.269531</td>\n",
       "    </tr>\n",
       "    <tr>\n",
       "      <th>9</th>\n",
       "      <td>305.190197</td>\n",
       "      <td>1528.298355</td>\n",
       "      <td>18097.715061</td>\n",
       "      <td>13731.846896</td>\n",
       "      <td>755.306727</td>\n",
       "      <td>180.820326</td>\n",
       "      <td>133818.281250</td>\n",
       "    </tr>\n",
       "    <tr>\n",
       "      <th>10</th>\n",
       "      <td>458.370257</td>\n",
       "      <td>3365.906350</td>\n",
       "      <td>18305.544771</td>\n",
       "      <td>6352.220369</td>\n",
       "      <td>250.129531</td>\n",
       "      <td>108.940213</td>\n",
       "      <td>143505.175781</td>\n",
       "    </tr>\n",
       "  </tbody>\n",
       "</table>\n",
       "</div>"
      ],
      "text/plain": [
       "          tau1         tau2          tau3            K1          K2  \\\n",
       "0   337.832235  2192.164113  21237.910433  15625.390443  737.788799   \n",
       "1   294.323773  1856.125721  29037.585240  18097.148243  888.714973   \n",
       "2   343.324542  2728.496388  23953.234483  16772.013616  600.672607   \n",
       "3   253.827160  1862.204427  20236.279491  22970.716268  748.060518   \n",
       "4   342.539707  2584.459018  30404.104737  13172.070650  607.305195   \n",
       "5   347.299427  2870.380445  31033.335805   9606.195138  371.002706   \n",
       "6   306.120491  2627.394338  37008.942536  17074.178406  611.938302   \n",
       "7   324.310561  2206.461973  23569.952829  18044.710863  663.645118   \n",
       "8   324.280688  1573.775647  15177.476956  11343.163552  646.148331   \n",
       "9   305.190197  1528.298355  18097.715061  13731.846896  755.306727   \n",
       "10  458.370257  3365.906350  18305.544771   6352.220369  250.129531   \n",
       "\n",
       "            K3  Intensity(ADU)  \n",
       "0   176.320355   138436.765625  \n",
       "1   144.530377   129035.714844  \n",
       "2   174.532051   140833.644531  \n",
       "3   158.648602   141888.746094  \n",
       "4   136.530761   136870.113281  \n",
       "5   116.622258   136778.007812  \n",
       "6   100.649406   145422.839844  \n",
       "7   145.961359   141715.765625  \n",
       "8   197.925164   130186.269531  \n",
       "9   180.820326   133818.281250  \n",
       "10  108.940213   143505.175781  "
      ]
     },
     "execution_count": 8,
     "metadata": {},
     "output_type": "execute_result"
    }
   ],
   "source": [
    "dat"
   ]
  },
  {
   "cell_type": "code",
   "execution_count": 12,
   "metadata": {},
   "outputs": [
    {
     "data": {
      "text/plain": [
       "(324.31056064692183, 2206.4619733669615, 23569.952828987247)"
      ]
     },
     "execution_count": 12,
     "metadata": {},
     "output_type": "execute_result"
    }
   ],
   "source": [
    "np.median(dat[\"tau1\"]),np.median(dat[\"tau2\"]),np.median(dat[\"tau3\"])"
   ]
  },
  {
   "cell_type": "code",
   "execution_count": 13,
   "metadata": {},
   "outputs": [
    {
     "data": {
      "text/plain": [
       "(15625.390442519243, 646.1483309222092, 145.96135892333163)"
      ]
     },
     "execution_count": 13,
     "metadata": {},
     "output_type": "execute_result"
    }
   ],
   "source": [
    "np.median(dat[\"K1\"]),np.median(dat[\"K2\"]),np.median(dat[\"K3\"])"
   ]
  },
  {
   "cell_type": "code",
   "execution_count": null,
   "metadata": {},
   "outputs": [],
   "source": []
  }
 ],
 "metadata": {
  "kernelspec": {
   "display_name": "Python 3",
   "language": "python",
   "name": "python3"
  },
  "language_info": {
   "codemirror_mode": {
    "name": "ipython",
    "version": 3
   },
   "file_extension": ".py",
   "mimetype": "text/x-python",
   "name": "python",
   "nbconvert_exporter": "python",
   "pygments_lexer": "ipython3",
   "version": "3.7.3"
  }
 },
 "nbformat": 4,
 "nbformat_minor": 2
}
